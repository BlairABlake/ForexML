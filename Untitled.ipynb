{
 "cells": [
  {
   "cell_type": "code",
   "execution_count": 1,
   "id": "5f6e8c70",
   "metadata": {},
   "outputs": [],
   "source": [
    "from datasets import ForexPricePredictionDataset"
   ]
  },
  {
   "cell_type": "code",
   "execution_count": 4,
   "id": "43aa550a",
   "metadata": {},
   "outputs": [],
   "source": [
    "dataset = ForexPricePredictionDataset(\"./data/USDJPY_H1.csv\", header=0, data_order=\"c\", input_duration=20, output_duration=1)"
   ]
  },
  {
   "cell_type": "code",
   "execution_count": 5,
   "id": "fcad14cf",
   "metadata": {},
   "outputs": [
    {
     "data": {
      "text/plain": [
       "(array([0.7603766 , 0.75745732, 0.76458579, 0.75643897, 0.75867934,\n",
       "        0.73471411, 0.75127931, 0.74883527, 0.75704998, 0.7603766 ,\n",
       "        0.76485735, 0.78753267, 0.78549596, 0.78318769, 0.77123902,\n",
       "        0.75976558, 0.78142255, 0.79669784, 0.82025573, 0.81998417]),\n",
       " array([0.8211383]))"
      ]
     },
     "execution_count": 5,
     "metadata": {},
     "output_type": "execute_result"
    }
   ],
   "source": []
  },
  {
   "cell_type": "code",
   "execution_count": null,
   "id": "4a214282",
   "metadata": {},
   "outputs": [],
   "source": []
  }
 ],
 "metadata": {
  "kernelspec": {
   "display_name": "Python 3 (ipykernel)",
   "language": "python",
   "name": "python3"
  },
  "language_info": {
   "codemirror_mode": {
    "name": "ipython",
    "version": 3
   },
   "file_extension": ".py",
   "mimetype": "text/x-python",
   "name": "python",
   "nbconvert_exporter": "python",
   "pygments_lexer": "ipython3",
   "version": "3.8.16"
  }
 },
 "nbformat": 4,
 "nbformat_minor": 5
}
