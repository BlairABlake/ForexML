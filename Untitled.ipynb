{
 "cells": [
  {
   "cell_type": "code",
   "execution_count": 1,
   "id": "294f5408",
   "metadata": {},
   "outputs": [
    {
     "name": "stderr",
     "output_type": "stream",
     "text": [
      "/Users/ryousukekaga/miniforge3/envs/forex/lib/python3.8/site-packages/tqdm/auto.py:21: TqdmWarning: IProgress not found. Please update jupyter and ipywidgets. See https://ipywidgets.readthedocs.io/en/stable/user_install.html\n",
      "  from .autonotebook import tqdm as notebook_tqdm\n"
     ]
    }
   ],
   "source": [
    "from models.NormNet import NormNet\n",
    "import yfinance as yf\n",
    "import torch\n",
    "import matplotlib.pyplot as plt\n",
    "import numpy as np\n",
    "import os\n",
    "from torchvision.datasets import ImageFolder\n",
    "from torchvision.transforms import Normalize, Resize, ToTensor, Compose, ToPILImage\n",
    "from models.time2vec import Time2Vec, time2vec\n",
    "from tqdm import tqdm\n",
    "from torch.utils.data import DataLoader"
   ]
  },
  {
   "cell_type": "code",
   "execution_count": 7,
   "id": "89770ddf",
   "metadata": {},
   "outputs": [],
   "source": [
    "transforms = Compose([\n",
    "    Resize((224, 224)),\n",
    "    ToTensor(),\n",
    "    Normalize((0.485, 0.456, 0.406), (0.229, 0.224, 0.225)),\n",
    "])\n",
    "\n",
    "train_dataset = ImageFolder(\n",
    "    \"./images/train\",\n",
    "    transforms,\n",
    ")\n",
    "\n",
    "data_loader = DataLoader(train_dataset, batch_size=64, shuffle=False)"
   ]
  },
  {
   "cell_type": "code",
   "execution_count": 8,
   "id": "164a22c8",
   "metadata": {},
   "outputs": [],
   "source": [
    "fnames = [os.path.basename(train_dataset.imgs[i][0]).replace(\".png\", \"\") for i in range(len(train_dataset.imgs))]"
   ]
  },
  {
   "cell_type": "code",
   "execution_count": 9,
   "id": "016e8397",
   "metadata": {},
   "outputs": [],
   "source": [
    "model = Time2Vec.load_from_checkpoint(\"time2vec_usdjpy.ckpt\", map_location=\"cpu\")"
   ]
  },
  {
   "cell_type": "code",
   "execution_count": 11,
   "id": "aa12edc1",
   "metadata": {},
   "outputs": [
    {
     "name": "stderr",
     "output_type": "stream",
     "text": [
      "100%|█████████████████████████████████████████████████████████████████████████████████████████████████████████████████| 84/84 [09:47<00:00,  7.00s/it]\n"
     ]
    }
   ],
   "source": [
    "vectors=[]\n",
    "for data in tqdm(data_loader):\n",
    "    vectors += time2vec(data[0], model=model, batch=True)"
   ]
  },
  {
   "cell_type": "code",
   "execution_count": 16,
   "id": "d865f888",
   "metadata": {},
   "outputs": [],
   "source": [
    "vectors = np.stack(vectors)"
   ]
  },
  {
   "cell_type": "code",
   "execution_count": 18,
   "id": "84d8db9d",
   "metadata": {},
   "outputs": [
    {
     "data": {
      "text/plain": [
       "array([-0.73938537, -0.50556004, -0.10028031, -0.2503987 ,  1.1509961 ,\n",
       "       -0.6512535 , -0.36941007,  0.6839826 ,  0.22712202, -1.1960378 ,\n",
       "        1.1475915 ,  0.53656983,  0.44742903,  0.4879437 ,  0.04608624,\n",
       "        1.4409484 ,  1.481465  , -0.2861358 ,  0.7519718 , -1.0915347 ,\n",
       "        0.7169382 , -0.8760133 ,  0.26104692,  0.368876  ,  0.5329017 ,\n",
       "       -1.4871799 ,  0.55472124,  0.4138119 , -0.4644236 ,  0.731189  ,\n",
       "       -0.32476053, -0.54709125, -0.7244887 ,  1.3991357 , -0.23608065,\n",
       "       -1.5755281 ,  0.6238093 , -0.6305638 , -0.21678089, -0.19036889,\n",
       "        0.1141913 ,  0.7062706 , -0.07328092, -1.0469342 ,  0.63124174,\n",
       "        1.4396538 , -0.1650803 , -0.4441009 ,  0.98817533,  0.33795652,\n",
       "       -0.598114  , -0.7146917 ,  0.46069598,  1.4004006 ,  0.01202311,\n",
       "       -1.3164482 , -1.1432322 , -0.18534695, -0.65224874,  0.48892093,\n",
       "        0.6339847 ,  0.5237737 , -0.8426118 , -0.5366929 , -0.06892444,\n",
       "       -0.5450264 , -0.15258141,  0.80542374,  0.18119611,  0.18838736,\n",
       "       -0.06098996, -0.80352086, -0.76921415,  0.76358587,  1.1331857 ,\n",
       "        0.4794502 , -0.04997356, -0.42152506, -0.39991233, -0.45737764,\n",
       "        0.06334555,  0.80968153, -0.3342673 ,  1.3487746 , -0.00932636,\n",
       "       -0.85099554, -0.80448484,  1.0394195 ,  0.14443035,  1.1408267 ,\n",
       "       -1.2494354 , -0.90452707,  0.28761   ,  0.84805727, -1.7231432 ,\n",
       "       -0.95980084, -0.12292559, -0.7504687 , -0.38577694, -1.8929561 ],\n",
       "      dtype=float32)"
      ]
     },
     "execution_count": 18,
     "metadata": {},
     "output_type": "execute_result"
    }
   ],
   "source": []
  },
  {
   "cell_type": "code",
   "execution_count": null,
   "id": "96b87ae8",
   "metadata": {},
   "outputs": [],
   "source": []
  }
 ],
 "metadata": {
  "kernelspec": {
   "display_name": "Python 3 (ipykernel)",
   "language": "python",
   "name": "python3"
  },
  "language_info": {
   "codemirror_mode": {
    "name": "ipython",
    "version": 3
   },
   "file_extension": ".py",
   "mimetype": "text/x-python",
   "name": "python",
   "nbconvert_exporter": "python",
   "pygments_lexer": "ipython3",
   "version": "3.8.16"
  }
 },
 "nbformat": 4,
 "nbformat_minor": 5
}
