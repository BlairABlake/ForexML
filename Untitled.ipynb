{
 "cells": [
  {
   "cell_type": "code",
   "execution_count": 1,
   "id": "7f1e687a",
   "metadata": {},
   "outputs": [],
   "source": [
    "from torchvision.datasets import ImageFolder\n",
    "from torchvision.transforms import Resize, Normalize, Compose, ToTensor\n",
    "from torchvision.models import mobilenet_v3_small\n",
    "import torchvision\n",
    "import torch\n",
    "from datasets import ForexData\n",
    "import pandas as pd\n",
    "from time2vec import time2vec"
   ]
  },
  {
   "cell_type": "code",
   "execution_count": 2,
   "id": "a5b8274f",
   "metadata": {},
   "outputs": [
    {
     "name": "stderr",
     "output_type": "stream",
     "text": [
      "/var/folders/7c/76rf51gj0r7bjm3s1m7f91500000gn/T/ipykernel_68027/1840847980.py:3: SettingWithCopyWarning: \n",
      "A value is trying to be set on a copy of a slice from a DataFrame.\n",
      "Try using .loc[row_indexer,col_indexer] = value instead\n",
      "\n",
      "See the caveats in the documentation: https://pandas.pydata.org/pandas-docs/stable/user_guide/indexing.html#returning-a-view-versus-a-copy\n",
      "  data[\"Time\"] = pd.to_datetime(data[\"Time\"])\n"
     ]
    }
   ],
   "source": [
    "dataset = ForexData(\"./data/USDJPY_H1.csv\", header=0, normalize=False, data_order=\"tohlc\")\n",
    "data = dataset.data\n",
    "data[\"Time\"] = pd.to_datetime(data[\"Time\"])\n",
    "data = data.set_index(\"Time\")"
   ]
  },
  {
   "cell_type": "code",
   "execution_count": null,
   "id": "ca67b592",
   "metadata": {},
   "outputs": [],
   "source": [
    "import mplfinance as mpf"
   ]
  },
  {
   "cell_type": "code",
   "execution_count": 3,
   "id": "7b2d3a94",
   "metadata": {},
   "outputs": [
    {
     "name": "stderr",
     "output_type": "stream",
     "text": [
      "/Users/ryousukekaga/miniforge3/envs/forex/lib/python3.8/site-packages/torchvision/models/_utils.py:135: UserWarning: Using 'weights' as positional parameter(s) is deprecated since 0.13 and may be removed in the future. Please use keyword parameter(s) instead.\n",
      "  warnings.warn(\n",
      "/Users/ryousukekaga/miniforge3/envs/forex/lib/python3.8/site-packages/torchvision/models/_utils.py:223: UserWarning: Arguments other than a weight enum or `None` for 'weights' are deprecated since 0.13 and may be removed in the future. The current behavior is equivalent to passing `weights=ResNet50_Weights.IMAGENET1K_V1`. You can also use `weights=ResNet50_Weights.DEFAULT` to get the most up-to-date weights.\n",
      "  warnings.warn(msg)\n"
     ]
    },
    {
     "data": {
      "text/plain": [
       "tensor([[-0.7221,  0.6271,  0.0038,  1.1547,  0.6596, -0.1171,  0.4244,  1.3786,\n",
       "         -1.1446, -0.5112,  0.1762,  0.2860,  0.7280,  0.5212,  0.2510,  0.2672,\n",
       "          0.6166,  0.1414,  0.0643,  0.7317,  0.7319,  0.2499, -0.5893,  0.7003,\n",
       "          1.2752,  0.6255,  1.0877,  0.0054,  1.3033, -1.9819, -1.0489,  0.2431,\n",
       "         -1.9868,  0.4109, -0.0936,  0.3387,  0.1241,  1.4066,  1.0014, -0.6187,\n",
       "          1.0012, -1.1822, -0.6423, -1.2666,  0.6005, -0.8736,  0.1185, -1.2945,\n",
       "         -0.5087, -0.1110,  0.9859, -0.2055,  0.0758, -1.0603, -0.5455,  1.1983,\n",
       "          0.2377,  0.9604,  1.0268,  0.2147,  0.4723,  0.2295,  0.1649, -0.9715,\n",
       "          1.0768,  0.5045,  0.1849,  0.0277,  1.6361,  2.4993, -0.4128, -1.1640,\n",
       "         -0.1906, -0.5474,  0.7985, -2.3754, -0.9193,  0.4696, -1.8316, -1.3653,\n",
       "         -1.6586, -0.1673, -0.3390, -0.0358, -0.6820,  0.4039,  0.7767, -0.2405,\n",
       "          0.3098, -0.1215,  2.0841,  1.2838,  0.2384,  0.4431, -1.3198, -1.1549,\n",
       "         -0.2104, -0.4554, -0.4763, -1.5909]])"
      ]
     },
     "execution_count": 3,
     "metadata": {},
     "output_type": "execute_result"
    },
    {
     "data": {
      "text/plain": [
       "<Figure size 640x480 with 0 Axes>"
      ]
     },
     "metadata": {},
     "output_type": "display_data"
    }
   ],
   "source": [
    "time2vec(data[-30:])"
   ]
  },
  {
   "cell_type": "code",
   "execution_count": null,
   "id": "43b0d4eb",
   "metadata": {},
   "outputs": [],
   "source": []
  }
 ],
 "metadata": {
  "kernelspec": {
   "display_name": "Python 3 (ipykernel)",
   "language": "python",
   "name": "python3"
  },
  "language_info": {
   "codemirror_mode": {
    "name": "ipython",
    "version": 3
   },
   "file_extension": ".py",
   "mimetype": "text/x-python",
   "name": "python",
   "nbconvert_exporter": "python",
   "pygments_lexer": "ipython3",
   "version": "3.8.16"
  }
 },
 "nbformat": 4,
 "nbformat_minor": 5
}
