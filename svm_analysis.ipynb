{
 "cells": [
  {
   "cell_type": "code",
   "execution_count": 17,
   "id": "e4371ec6",
   "metadata": {},
   "outputs": [],
   "source": [
    "from sklearn import svm\n",
    "from sklearn.metrics import accuracy_score\n",
    "import numpy as np\n",
    "import pickle\n",
    "from datetime import datetime\n",
    "from torchvision.datasets import ImageFolder\n",
    "from torchvision.transforms import Normalize, Resize, ToTensor, Compose, ToPILImage"
   ]
  },
  {
   "cell_type": "code",
   "execution_count": 2,
   "id": "fca1d509",
   "metadata": {},
   "outputs": [],
   "source": [
    "file = np.load(\"time2vec_udsjpy.npz\")\n",
    "files, vectors, labels = file[\"arr_0\"], file[\"arr_1\"], file[\"arr_2\"]"
   ]
  },
  {
   "cell_type": "code",
   "execution_count": 3,
   "id": "898b5041",
   "metadata": {},
   "outputs": [],
   "source": [
    "with open(\"svm.pkl\", mode=\"rb\") as f:\n",
    "    model = pickle.load(f)"
   ]
  },
  {
   "cell_type": "code",
   "execution_count": 6,
   "id": "866dd218",
   "metadata": {},
   "outputs": [
    {
     "data": {
      "text/plain": [
       "0.551"
      ]
     },
     "execution_count": 6,
     "metadata": {},
     "output_type": "execute_result"
    }
   ],
   "source": [
    "model.score(vectors[-1000:], labels[-1000:])"
   ]
  },
  {
   "cell_type": "code",
   "execution_count": 12,
   "id": "1fc25457",
   "metadata": {},
   "outputs": [],
   "source": [
    "files = [datetime.strptime(f, \"%Y-%m-%d %H_%M_%S\") for f in files]"
   ]
  },
  {
   "cell_type": "code",
   "execution_count": 16,
   "id": "9cd65ef5",
   "metadata": {},
   "outputs": [
    {
     "data": {
      "text/plain": [
       "0"
      ]
     },
     "execution_count": 16,
     "metadata": {},
     "output_type": "execute_result"
    }
   ],
   "source": [
    "model.predict([vectors[0]])[0]"
   ]
  },
  {
   "cell_type": "code",
   "execution_count": 18,
   "id": "3d29842b",
   "metadata": {},
   "outputs": [],
   "source": [
    "transforms = Compose([\n",
    "    Resize((224, 224)),\n",
    "    ToTensor(),\n",
    "    Normalize((0.485, 0.456, 0.406), (0.229, 0.224, 0.225)),\n",
    "])\n",
    "\n",
    "train_dataset = ImageFolder(\n",
    "    \"images/\",\n",
    "    transforms,\n",
    ")"
   ]
  },
  {
   "cell_type": "code",
   "execution_count": 21,
   "id": "2bd3d873",
   "metadata": {},
   "outputs": [
    {
     "data": {
      "text/plain": [
       "{'down': 0, 'stationary': 1, 'up': 2}"
      ]
     },
     "execution_count": 21,
     "metadata": {},
     "output_type": "execute_result"
    }
   ],
   "source": [
    "train_dataset.class_to_idx"
   ]
  },
  {
   "cell_type": "code",
   "execution_count": null,
   "id": "a44fc437",
   "metadata": {},
   "outputs": [],
   "source": []
  }
 ],
 "metadata": {
  "kernelspec": {
   "display_name": "Python 3 (ipykernel)",
   "language": "python",
   "name": "python3"
  },
  "language_info": {
   "codemirror_mode": {
    "name": "ipython",
    "version": 3
   },
   "file_extension": ".py",
   "mimetype": "text/x-python",
   "name": "python",
   "nbconvert_exporter": "python",
   "pygments_lexer": "ipython3",
   "version": "3.8.16"
  }
 },
 "nbformat": 4,
 "nbformat_minor": 5
}
