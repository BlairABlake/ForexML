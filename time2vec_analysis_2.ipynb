{
 "cells": [
  {
   "cell_type": "code",
   "execution_count": 1,
   "id": "294f5408",
   "metadata": {},
   "outputs": [
    {
     "name": "stderr",
     "output_type": "stream",
     "text": [
      "/Users/ryousukekaga/miniforge3/envs/forex/lib/python3.8/site-packages/tqdm/auto.py:21: TqdmWarning: IProgress not found. Please update jupyter and ipywidgets. See https://ipywidgets.readthedocs.io/en/stable/user_install.html\n",
      "  from .autonotebook import tqdm as notebook_tqdm\n"
     ]
    }
   ],
   "source": [
    "import numpy as np\n",
    "import yfinance as yf\n",
    "from datasets import ForexDataWithWindow\n",
    "from datetime import datetime\n",
    "from scipy.spatial import distance\n",
    "from models import time2vec\n",
    "import mplfinance as mpf"
   ]
  },
  {
   "cell_type": "code",
   "execution_count": 2,
   "id": "9ba28c0f",
   "metadata": {},
   "outputs": [
    {
     "name": "stderr",
     "output_type": "stream",
     "text": [
      "/Users/ryousukekaga/repositories/ForexML/datasets.py:31: SettingWithCopyWarning: \n",
      "A value is trying to be set on a copy of a slice from a DataFrame.\n",
      "Try using .loc[row_indexer,col_indexer] = value instead\n",
      "\n",
      "See the caveats in the documentation: https://pandas.pydata.org/pandas-docs/stable/user_guide/indexing.html#returning-a-view-versus-a-copy\n",
      "  self.data[\"Time\"] = pd.to_datetime(self.data[\"Time\"])\n"
     ]
    }
   ],
   "source": [
    "dataset = ForexDataWithWindow(\"./data/USDJPY_H1.csv\", header=0, normalize=False, data_order=\"tohlc\", input_duration=31, time_index=True)\n",
    "data = dataset.data"
   ]
  },
  {
   "cell_type": "code",
   "execution_count": 3,
   "id": "79012578",
   "metadata": {},
   "outputs": [],
   "source": [
    "model = time2vec.Time2Vec.load_from_checkpoint(\"usdjpy_model.ckpt\", map_location=\"cpu\")"
   ]
  },
  {
   "cell_type": "code",
   "execution_count": 4,
   "id": "359dabde",
   "metadata": {},
   "outputs": [],
   "source": [
    "f = np.load(\"time2vec_udsjpy.npz\")"
   ]
  },
  {
   "cell_type": "code",
   "execution_count": 11,
   "id": "13b6416f",
   "metadata": {},
   "outputs": [],
   "source": [
    "files, vectors, labels = f[\"arr_0\"], f[\"arr_1\"], f[\"arr_2\"]"
   ]
  },
  {
   "cell_type": "code",
   "execution_count": 12,
   "id": "ce45e3ab",
   "metadata": {},
   "outputs": [],
   "source": [
    "files = np.array([datetime.strptime(f, \"%Y-%m-%d %H_%M_%S\") for f in files])"
   ]
  },
  {
   "cell_type": "code",
   "execution_count": 21,
   "id": "d1b7411e",
   "metadata": {},
   "outputs": [
    {
     "data": {
      "text/plain": [
       "0"
      ]
     },
     "execution_count": 21,
     "metadata": {},
     "output_type": "execute_result"
    }
   ],
   "source": [
    "np.where(data.iloc[0].name == files)[0][0]"
   ]
  },
  {
   "cell_type": "code",
   "execution_count": 7,
   "id": "b20a2ad5",
   "metadata": {},
   "outputs": [
    {
     "data": {
      "text/plain": [
       "<Figure size 640x480 with 0 Axes>"
      ]
     },
     "metadata": {},
     "output_type": "display_data"
    }
   ],
   "source": [
    "ticker = yf.Ticker(\"AUDJPY=X\")\n",
    "data_now = ticker.history(interval=\"15m\", period=\"1d\")\n",
    "vec_now = time2vec.time2vec_from_raw(data_now[-30:], model)"
   ]
  },
  {
   "cell_type": "code",
   "execution_count": 8,
   "id": "e857d6fd",
   "metadata": {},
   "outputs": [],
   "source": [
    "distances = np.squeeze([distance.cdist(vec_now, [x], \"cosine\") for x in vectors])"
   ]
  },
  {
   "cell_type": "code",
   "execution_count": null,
   "id": "913b8132",
   "metadata": {},
   "outputs": [],
   "source": [
    "sim_i = distances.argmax()"
   ]
  },
  {
   "cell_type": "code",
   "execution_count": null,
   "id": "0b2bf7c6",
   "metadata": {},
   "outputs": [],
   "source": [
    "similar_df = data.loc[files[sim_i:sim_i+30]]"
   ]
  },
  {
   "cell_type": "code",
   "execution_count": null,
   "id": "9ad81c6a",
   "metadata": {},
   "outputs": [],
   "source": [
    "mpf.plot(data_now[-30:], type='candle', returnfig=True, scale_padding=0, style='charles')\n",
    "mpf.plot(similar_df, type='candle', returnfig=True, scale_padding=0, style='charles')"
   ]
  },
  {
   "cell_type": "code",
   "execution_count": null,
   "id": "45561d1d",
   "metadata": {},
   "outputs": [],
   "source": []
  }
 ],
 "metadata": {
  "kernelspec": {
   "display_name": "Python 3 (ipykernel)",
   "language": "python",
   "name": "python3"
  },
  "language_info": {
   "codemirror_mode": {
    "name": "ipython",
    "version": 3
   },
   "file_extension": ".py",
   "mimetype": "text/x-python",
   "name": "python",
   "nbconvert_exporter": "python",
   "pygments_lexer": "ipython3",
   "version": "3.8.16"
  }
 },
 "nbformat": 4,
 "nbformat_minor": 5
}
