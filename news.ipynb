{
 "cells": [
  {
   "cell_type": "code",
   "execution_count": 28,
   "id": "e56ca72c",
   "metadata": {},
   "outputs": [],
   "source": [
    "import yfinance as yf\n",
    "import mplfinance as mpf\n",
    "import pandas as pd"
   ]
  },
  {
   "cell_type": "code",
   "execution_count": 23,
   "id": "1fbec88e",
   "metadata": {},
   "outputs": [],
   "source": [
    "ticker = yf.Ticker(\"GBPJPY=X\")\n",
    "data_now = ticker.history(interval=\"1h\", period=\"1wk\")"
   ]
  },
  {
   "cell_type": "code",
   "execution_count": 24,
   "id": "6002ebe8",
   "metadata": {},
   "outputs": [
    {
     "data": {
      "text/html": [
       "<div>\n",
       "<style scoped>\n",
       "    .dataframe tbody tr th:only-of-type {\n",
       "        vertical-align: middle;\n",
       "    }\n",
       "\n",
       "    .dataframe tbody tr th {\n",
       "        vertical-align: top;\n",
       "    }\n",
       "\n",
       "    .dataframe thead th {\n",
       "        text-align: right;\n",
       "    }\n",
       "</style>\n",
       "<table border=\"1\" class=\"dataframe\">\n",
       "  <thead>\n",
       "    <tr style=\"text-align: right;\">\n",
       "      <th></th>\n",
       "      <th>Open</th>\n",
       "      <th>High</th>\n",
       "      <th>Low</th>\n",
       "      <th>Close</th>\n",
       "      <th>Volume</th>\n",
       "      <th>Dividends</th>\n",
       "      <th>Stock Splits</th>\n",
       "    </tr>\n",
       "    <tr>\n",
       "      <th>Datetime</th>\n",
       "      <th></th>\n",
       "      <th></th>\n",
       "      <th></th>\n",
       "      <th></th>\n",
       "      <th></th>\n",
       "      <th></th>\n",
       "      <th></th>\n",
       "    </tr>\n",
       "  </thead>\n",
       "  <tbody>\n",
       "    <tr>\n",
       "      <th>2023-05-01 00:00:00+01:00</th>\n",
       "      <td>171.033997</td>\n",
       "      <td>171.389999</td>\n",
       "      <td>171.018005</td>\n",
       "      <td>171.296005</td>\n",
       "      <td>0</td>\n",
       "      <td>0.0</td>\n",
       "      <td>0.0</td>\n",
       "    </tr>\n",
       "    <tr>\n",
       "      <th>2023-05-01 01:00:00+01:00</th>\n",
       "      <td>171.285004</td>\n",
       "      <td>171.697006</td>\n",
       "      <td>171.139999</td>\n",
       "      <td>171.626007</td>\n",
       "      <td>0</td>\n",
       "      <td>0.0</td>\n",
       "      <td>0.0</td>\n",
       "    </tr>\n",
       "    <tr>\n",
       "      <th>2023-05-01 02:00:00+01:00</th>\n",
       "      <td>171.632004</td>\n",
       "      <td>171.662003</td>\n",
       "      <td>171.509995</td>\n",
       "      <td>171.639999</td>\n",
       "      <td>0</td>\n",
       "      <td>0.0</td>\n",
       "      <td>0.0</td>\n",
       "    </tr>\n",
       "    <tr>\n",
       "      <th>2023-05-01 03:00:00+01:00</th>\n",
       "      <td>171.641006</td>\n",
       "      <td>171.966995</td>\n",
       "      <td>171.582001</td>\n",
       "      <td>171.929993</td>\n",
       "      <td>0</td>\n",
       "      <td>0.0</td>\n",
       "      <td>0.0</td>\n",
       "    </tr>\n",
       "    <tr>\n",
       "      <th>2023-05-01 04:00:00+01:00</th>\n",
       "      <td>171.934998</td>\n",
       "      <td>172.095001</td>\n",
       "      <td>171.839996</td>\n",
       "      <td>172.037003</td>\n",
       "      <td>0</td>\n",
       "      <td>0.0</td>\n",
       "      <td>0.0</td>\n",
       "    </tr>\n",
       "    <tr>\n",
       "      <th>...</th>\n",
       "      <td>...</td>\n",
       "      <td>...</td>\n",
       "      <td>...</td>\n",
       "      <td>...</td>\n",
       "      <td>...</td>\n",
       "      <td>...</td>\n",
       "      <td>...</td>\n",
       "    </tr>\n",
       "    <tr>\n",
       "      <th>2023-05-05 18:00:00+01:00</th>\n",
       "      <td>170.285995</td>\n",
       "      <td>170.367996</td>\n",
       "      <td>170.190002</td>\n",
       "      <td>170.257004</td>\n",
       "      <td>0</td>\n",
       "      <td>0.0</td>\n",
       "      <td>0.0</td>\n",
       "    </tr>\n",
       "    <tr>\n",
       "      <th>2023-05-05 19:00:00+01:00</th>\n",
       "      <td>170.257996</td>\n",
       "      <td>170.421005</td>\n",
       "      <td>170.167007</td>\n",
       "      <td>170.380997</td>\n",
       "      <td>0</td>\n",
       "      <td>0.0</td>\n",
       "      <td>0.0</td>\n",
       "    </tr>\n",
       "    <tr>\n",
       "      <th>2023-05-05 20:00:00+01:00</th>\n",
       "      <td>170.386993</td>\n",
       "      <td>170.421997</td>\n",
       "      <td>170.278000</td>\n",
       "      <td>170.360992</td>\n",
       "      <td>0</td>\n",
       "      <td>0.0</td>\n",
       "      <td>0.0</td>\n",
       "    </tr>\n",
       "    <tr>\n",
       "      <th>2023-05-05 21:00:00+01:00</th>\n",
       "      <td>170.363998</td>\n",
       "      <td>170.423996</td>\n",
       "      <td>170.209000</td>\n",
       "      <td>170.283997</td>\n",
       "      <td>0</td>\n",
       "      <td>0.0</td>\n",
       "      <td>0.0</td>\n",
       "    </tr>\n",
       "    <tr>\n",
       "      <th>2023-05-05 22:00:00+01:00</th>\n",
       "      <td>170.255005</td>\n",
       "      <td>170.320007</td>\n",
       "      <td>170.255005</td>\n",
       "      <td>170.320007</td>\n",
       "      <td>0</td>\n",
       "      <td>0.0</td>\n",
       "      <td>0.0</td>\n",
       "    </tr>\n",
       "  </tbody>\n",
       "</table>\n",
       "<p>119 rows × 7 columns</p>\n",
       "</div>"
      ],
      "text/plain": [
       "                                 Open        High         Low       Close  \\\n",
       "Datetime                                                                    \n",
       "2023-05-01 00:00:00+01:00  171.033997  171.389999  171.018005  171.296005   \n",
       "2023-05-01 01:00:00+01:00  171.285004  171.697006  171.139999  171.626007   \n",
       "2023-05-01 02:00:00+01:00  171.632004  171.662003  171.509995  171.639999   \n",
       "2023-05-01 03:00:00+01:00  171.641006  171.966995  171.582001  171.929993   \n",
       "2023-05-01 04:00:00+01:00  171.934998  172.095001  171.839996  172.037003   \n",
       "...                               ...         ...         ...         ...   \n",
       "2023-05-05 18:00:00+01:00  170.285995  170.367996  170.190002  170.257004   \n",
       "2023-05-05 19:00:00+01:00  170.257996  170.421005  170.167007  170.380997   \n",
       "2023-05-05 20:00:00+01:00  170.386993  170.421997  170.278000  170.360992   \n",
       "2023-05-05 21:00:00+01:00  170.363998  170.423996  170.209000  170.283997   \n",
       "2023-05-05 22:00:00+01:00  170.255005  170.320007  170.255005  170.320007   \n",
       "\n",
       "                           Volume  Dividends  Stock Splits  \n",
       "Datetime                                                    \n",
       "2023-05-01 00:00:00+01:00       0        0.0           0.0  \n",
       "2023-05-01 01:00:00+01:00       0        0.0           0.0  \n",
       "2023-05-01 02:00:00+01:00       0        0.0           0.0  \n",
       "2023-05-01 03:00:00+01:00       0        0.0           0.0  \n",
       "2023-05-01 04:00:00+01:00       0        0.0           0.0  \n",
       "...                           ...        ...           ...  \n",
       "2023-05-05 18:00:00+01:00       0        0.0           0.0  \n",
       "2023-05-05 19:00:00+01:00       0        0.0           0.0  \n",
       "2023-05-05 20:00:00+01:00       0        0.0           0.0  \n",
       "2023-05-05 21:00:00+01:00       0        0.0           0.0  \n",
       "2023-05-05 22:00:00+01:00       0        0.0           0.0  \n",
       "\n",
       "[119 rows x 7 columns]"
      ]
     },
     "execution_count": 24,
     "metadata": {},
     "output_type": "execute_result"
    }
   ],
   "source": [
    "data_now"
   ]
  },
  {
   "cell_type": "code",
   "execution_count": 25,
   "id": "5e3368db",
   "metadata": {},
   "outputs": [
    {
     "data": {
      "image/png": "[encoded data removed]",
      "text/plain": [
       "<Figure size 800x575 with 2 Axes>"
      ]
     },
     "metadata": {},
     "output_type": "display_data"
    }
   ],
   "source": [
    "mpf.plot(data_now, type='candle', scale_padding=0, style='charles')"
   ]
  },
  {
   "cell_type": "code",
   "execution_count": 1,
   "id": "3b41f526",
   "metadata": {},
   "outputs": [
    {
     "name": "stderr",
     "output_type": "stream",
     "text": [
      "/Users/ryousukekaga/miniforge3/envs/forex/lib/python3.8/site-packages/tqdm/auto.py:21: TqdmWarning: IProgress not found. Please update jupyter and ipywidgets. See https://ipywidgets.readthedocs.io/en/stable/user_install.html\n",
      "  from .autonotebook import tqdm as notebook_tqdm\n",
      "Downloading (…)e9125/.gitattributes: 100%|███████████████████████████████████████████████████████| 1.18k/1.18k [00:00<00:00, 401kB/s]\n",
      "Downloading (…)_Pooling/config.json: 100%|██████████████████████████████████████████████████████████| 190/190 [00:00<00:00, 89.3kB/s]\n",
      "Downloading (…)7e55de9125/README.md: 100%|██████████████████████████████████████████████████████| 10.6k/10.6k [00:00<00:00, 8.57MB/s]\n",
      "Downloading (…)55de9125/config.json: 100%|██████████████████████████████████████████████████████████| 612/612 [00:00<00:00, 1.08MB/s]\n",
      "Downloading (…)ce_transformers.json: 100%|███████████████████████████████████████████████████████████| 116/116 [00:00<00:00, 161kB/s]\n",
      "Downloading (…)125/data_config.json: 100%|██████████████████████████████████████████████████████| 39.3k/39.3k [00:00<00:00, 14.1MB/s]\n",
      "Downloading pytorch_model.bin: 100%|████████████████████████████████████████████████████████████| 90.9M/90.9M [00:06<00:00, 13.2MB/s]\n",
      "Downloading (…)nce_bert_config.json: 100%|████████████████████████████████████████████████████████| 53.0/53.0 [00:00<00:00, 23.1kB/s]\n",
      "Downloading (…)cial_tokens_map.json: 100%|██████████████████████████████████████████████████████████| 112/112 [00:00<00:00, 43.4kB/s]\n",
      "Downloading (…)e9125/tokenizer.json: 100%|████████████████████████████████████████████████████████| 466k/466k [00:00<00:00, 13.8MB/s]\n",
      "Downloading (…)okenizer_config.json: 100%|███████████████████████████████████████████████████████████| 350/350 [00:00<00:00, 137kB/s]\n",
      "Downloading (…)9125/train_script.py: 100%|██████████████████████████████████████████████████████| 13.2k/13.2k [00:00<00:00, 4.58MB/s]\n",
      "Downloading (…)7e55de9125/vocab.txt: 100%|████████████████████████████████████████████████████████| 232k/232k [00:00<00:00, 20.5MB/s]\n",
      "Downloading (…)5de9125/modules.json: 100%|███████████████████████████████████████████████████████████| 349/349 [00:00<00:00, 131kB/s]\n"
     ]
    }
   ],
   "source": [
    "from sentence_transformers import SentenceTransformer\n",
    "model = SentenceTransformer('all-MiniLM-L6-v2')"
   ]
  },
  {
   "cell_type": "code",
   "execution_count": 2,
   "id": "c07d3c4c",
   "metadata": {},
   "outputs": [],
   "source": [
    "from newsapi import NewsApiClient\n",
    "newsapi = NewsApiClient(api_key='b58cfc98f73e497a8c91b7f0c3bc6a50')"
   ]
  },
  {
   "cell_type": "code",
   "execution_count": 54,
   "id": "1e395e48",
   "metadata": {},
   "outputs": [],
   "source": [
    "articles = newsapi.get_everything(q='forex',\n",
    "                                      language='en',\n",
    "                                      page=2)"
   ]
  },
  {
   "cell_type": "code",
   "execution_count": 58,
   "id": "6f306c96",
   "metadata": {},
   "outputs": [
    {
     "ename": "NewsAPIException",
     "evalue": "{'status': 'error', 'code': 'maximumResultsReached', 'message': 'You have requested too many results. Developer accounts are limited to a max of 100 results. You are trying to request results 100 to 120. Please upgrade to a paid plan if you need more results.'}",
     "output_type": "error",
     "traceback": [
      "\u001b[0;31m---------------------------------------------------------------------------\u001b[0m",
      "\u001b[0;31mNewsAPIException\u001b[0m                          Traceback (most recent call last)",
      "Cell \u001b[0;32mIn[58], line 3\u001b[0m\n\u001b[1;32m      1\u001b[0m all_articles \u001b[38;5;241m=\u001b[39m []\n\u001b[1;32m      2\u001b[0m \u001b[38;5;28;01mfor\u001b[39;00m i \u001b[38;5;129;01min\u001b[39;00m \u001b[38;5;28mrange\u001b[39m(\u001b[38;5;241m1\u001b[39m,articles[\u001b[38;5;124m\"\u001b[39m\u001b[38;5;124mtotalResults\u001b[39m\u001b[38;5;124m\"\u001b[39m]\u001b[38;5;241m/\u001b[39m\u001b[38;5;241m/\u001b[39m\u001b[38;5;241m100\u001b[39m\u001b[38;5;241m+\u001b[39m\u001b[38;5;241m1\u001b[39m):\n\u001b[0;32m----> 3\u001b[0m     _articles \u001b[38;5;241m=\u001b[39m [article \u001b[38;5;28;01mfor\u001b[39;00m article \u001b[38;5;129;01min\u001b[39;00m \u001b[43mnewsapi\u001b[49m\u001b[38;5;241;43m.\u001b[39;49m\u001b[43mget_everything\u001b[49m\u001b[43m(\u001b[49m\u001b[43mq\u001b[49m\u001b[38;5;241;43m=\u001b[39;49m\u001b[38;5;124;43m'\u001b[39;49m\u001b[38;5;124;43mforex\u001b[39;49m\u001b[38;5;124;43m'\u001b[39;49m\u001b[43m,\u001b[49m\u001b[43m \u001b[49m\u001b[43mlanguage\u001b[49m\u001b[38;5;241;43m=\u001b[39;49m\u001b[38;5;124;43m'\u001b[39;49m\u001b[38;5;124;43men\u001b[39;49m\u001b[38;5;124;43m'\u001b[39;49m\u001b[43m,\u001b[49m\u001b[43m \u001b[49m\u001b[43mpage\u001b[49m\u001b[38;5;241;43m=\u001b[39;49m\u001b[43mi\u001b[49m\u001b[43m)\u001b[49m[\u001b[38;5;124m\"\u001b[39m\u001b[38;5;124marticles\u001b[39m\u001b[38;5;124m\"\u001b[39m]]\n\u001b[1;32m      4\u001b[0m     all_articles\u001b[38;5;241m.\u001b[39mappend(_articles)\n",
      "File \u001b[0;32m~/miniforge3/envs/forex/lib/python3.8/site-packages/newsapi/newsapi_client.py:334\u001b[0m, in \u001b[0;36mNewsApiClient.get_everything\u001b[0;34m(self, q, qintitle, sources, domains, exclude_domains, from_param, to, language, sort_by, page, page_size)\u001b[0m\n\u001b[1;32m    332\u001b[0m \u001b[38;5;66;03m# Check Status of Request\u001b[39;00m\n\u001b[1;32m    333\u001b[0m \u001b[38;5;28;01mif\u001b[39;00m r\u001b[38;5;241m.\u001b[39mstatus_code \u001b[38;5;241m!=\u001b[39m requests\u001b[38;5;241m.\u001b[39mcodes\u001b[38;5;241m.\u001b[39mok:\n\u001b[0;32m--> 334\u001b[0m     \u001b[38;5;28;01mraise\u001b[39;00m NewsAPIException(r\u001b[38;5;241m.\u001b[39mjson())\n\u001b[1;32m    336\u001b[0m \u001b[38;5;28;01mreturn\u001b[39;00m r\u001b[38;5;241m.\u001b[39mjson()\n",
      "\u001b[0;31mNewsAPIException\u001b[0m: {'status': 'error', 'code': 'maximumResultsReached', 'message': 'You have requested too many results. Developer accounts are limited to a max of 100 results. You are trying to request results 100 to 120. Please upgrade to a paid plan if you need more results.'}"
     ]
    }
   ],
   "source": [
    "all_articles = []\n",
    "for i in range(1,articles[\"totalResults\"]//100+1):\n",
    "    _articles = [article for article in newsapi.get_everything(q='forex', language='en', page=i)[\"articles\"]]\n",
    "    all_articles.append(_articles)"
   ]
  },
  {
   "cell_type": "code",
   "execution_count": 59,
   "id": "aba0303a",
   "metadata": {},
   "outputs": [
    {
     "ename": "TypeError",
     "evalue": "list indices must be integers or slices, not str",
     "output_type": "error",
     "traceback": [
      "\u001b[0;31m---------------------------------------------------------------------------\u001b[0m",
      "\u001b[0;31mTypeError\u001b[0m                                 Traceback (most recent call last)",
      "Cell \u001b[0;32mIn[59], line 1\u001b[0m\n\u001b[0;32m----> 1\u001b[0m df \u001b[38;5;241m=\u001b[39m pd\u001b[38;5;241m.\u001b[39mDataFrame([[article[\u001b[38;5;124m\"\u001b[39m\u001b[38;5;124mpublishedAt\u001b[39m\u001b[38;5;124m\"\u001b[39m], article[\u001b[38;5;124m\"\u001b[39m\u001b[38;5;124mdescription\u001b[39m\u001b[38;5;124m\"\u001b[39m]\u001b[38;5;241m.\u001b[39mreplace(\u001b[38;5;124m\"\u001b[39m\u001b[38;5;124m…\u001b[39m\u001b[38;5;124m\"\u001b[39m, \u001b[38;5;124m\"\u001b[39m\u001b[38;5;124m\"\u001b[39m)\u001b[38;5;241m.\u001b[39mreplace(\u001b[38;5;124m\"\u001b[39m\u001b[38;5;124m...\u001b[39m\u001b[38;5;124m\"\u001b[39m, \u001b[38;5;124m\"\u001b[39m\u001b[38;5;124m\"\u001b[39m)]  \u001b[38;5;28;01mfor\u001b[39;00m article \u001b[38;5;129;01min\u001b[39;00m \u001b[43mall_articles\u001b[49m\u001b[43m[\u001b[49m\u001b[38;5;124;43m\"\u001b[39;49m\u001b[38;5;124;43marticles\u001b[39;49m\u001b[38;5;124;43m\"\u001b[39;49m\u001b[43m]\u001b[49m], columns\u001b[38;5;241m=\u001b[39m[\u001b[38;5;124m\"\u001b[39m\u001b[38;5;124mTime\u001b[39m\u001b[38;5;124m\"\u001b[39m, \u001b[38;5;124m\"\u001b[39m\u001b[38;5;124mdescription\u001b[39m\u001b[38;5;124m\"\u001b[39m])\n\u001b[1;32m      2\u001b[0m df[\u001b[38;5;124m\"\u001b[39m\u001b[38;5;124mTime\u001b[39m\u001b[38;5;124m\"\u001b[39m] \u001b[38;5;241m=\u001b[39m pd\u001b[38;5;241m.\u001b[39mto_datetime(df[\u001b[38;5;124m\"\u001b[39m\u001b[38;5;124mTime\u001b[39m\u001b[38;5;124m\"\u001b[39m])\n\u001b[1;32m      3\u001b[0m df[\u001b[38;5;124m\"\u001b[39m\u001b[38;5;124mTime\u001b[39m\u001b[38;5;124m\"\u001b[39m] \u001b[38;5;241m=\u001b[39m df[\u001b[38;5;124m\"\u001b[39m\u001b[38;5;124mTime\u001b[39m\u001b[38;5;124m\"\u001b[39m]\u001b[38;5;241m.\u001b[39mdt\u001b[38;5;241m.\u001b[39mdate\n",
      "\u001b[0;31mTypeError\u001b[0m: list indices must be integers or slices, not str"
     ]
    }
   ],
   "source": [
    "df = pd.DataFrame([[article[\"publishedAt\"], article[\"description\"].replace(\"…\", \"\").replace(\"...\", \"\")]  for article in all_articles[\"articles\"]], columns=[\"Time\", \"description\"])\n",
    "df[\"Time\"] = pd.to_datetime(df[\"Time\"])\n",
    "df[\"Time\"] = df[\"Time\"].dt.date"
   ]
  },
  {
   "cell_type": "code",
   "execution_count": 38,
   "id": "c27cd4af",
   "metadata": {},
   "outputs": [
    {
     "data": {
      "text/html": [
       "<div>\n",
       "<style scoped>\n",
       "    .dataframe tbody tr th:only-of-type {\n",
       "        vertical-align: middle;\n",
       "    }\n",
       "\n",
       "    .dataframe tbody tr th {\n",
       "        vertical-align: top;\n",
       "    }\n",
       "\n",
       "    .dataframe thead th {\n",
       "        text-align: right;\n",
       "    }\n",
       "</style>\n",
       "<table border=\"1\" class=\"dataframe\">\n",
       "  <thead>\n",
       "    <tr style=\"text-align: right;\">\n",
       "      <th></th>\n",
       "      <th>Time</th>\n",
       "      <th>description</th>\n",
       "    </tr>\n",
       "  </thead>\n",
       "  <tbody>\n",
       "    <tr>\n",
       "      <th>0</th>\n",
       "      <td>2023-05-02</td>\n",
       "      <td>Retail forex trading in Nigeria is mostly onli...</td>\n",
       "    </tr>\n",
       "    <tr>\n",
       "      <th>1</th>\n",
       "      <td>2023-04-25</td>\n",
       "      <td>There are hundreds of offshore &amp; scam forex br...</td>\n",
       "    </tr>\n",
       "    <tr>\n",
       "      <th>2</th>\n",
       "      <td>2023-04-26</td>\n",
       "      <td>Argentina has troubles with its IMF debt, but ...</td>\n",
       "    </tr>\n",
       "    <tr>\n",
       "      <th>3</th>\n",
       "      <td>2023-04-12</td>\n",
       "      <td>We expect J&amp;J to report revenues and earnings ...</td>\n",
       "    </tr>\n",
       "    <tr>\n",
       "      <th>4</th>\n",
       "      <td>2023-04-26</td>\n",
       "      <td>We expect MRK stock to trade higher, with its ...</td>\n",
       "    </tr>\n",
       "    <tr>\n",
       "      <th>...</th>\n",
       "      <td>...</td>\n",
       "      <td>...</td>\n",
       "    </tr>\n",
       "    <tr>\n",
       "      <th>95</th>\n",
       "      <td>2023-04-24</td>\n",
       "      <td>The Nigerian Diaspora community has remitted $...</td>\n",
       "    </tr>\n",
       "    <tr>\n",
       "      <th>96</th>\n",
       "      <td>2023-04-28</td>\n",
       "      <td>Foreign exchange is required while travelling ...</td>\n",
       "    </tr>\n",
       "    <tr>\n",
       "      <th>97</th>\n",
       "      <td>2023-04-17</td>\n",
       "      <td>The \"United Arab Emirates Prepaid Card and Dig...</td>\n",
       "    </tr>\n",
       "    <tr>\n",
       "      <th>98</th>\n",
       "      <td>2023-04-24</td>\n",
       "      <td>Dublin, April 24, 2023 (GLOBE NEWSWIRE) -- The...</td>\n",
       "    </tr>\n",
       "    <tr>\n",
       "      <th>99</th>\n",
       "      <td>2023-04-25</td>\n",
       "      <td>Dublin, April 25, 2023 (GLOBE NEWSWIRE) -- The...</td>\n",
       "    </tr>\n",
       "  </tbody>\n",
       "</table>\n",
       "<p>100 rows × 2 columns</p>\n",
       "</div>"
      ],
      "text/plain": [
       "          Time                                        description\n",
       "0   2023-05-02  Retail forex trading in Nigeria is mostly onli...\n",
       "1   2023-04-25  There are hundreds of offshore & scam forex br...\n",
       "2   2023-04-26  Argentina has troubles with its IMF debt, but ...\n",
       "3   2023-04-12  We expect J&J to report revenues and earnings ...\n",
       "4   2023-04-26  We expect MRK stock to trade higher, with its ...\n",
       "..         ...                                                ...\n",
       "95  2023-04-24  The Nigerian Diaspora community has remitted $...\n",
       "96  2023-04-28  Foreign exchange is required while travelling ...\n",
       "97  2023-04-17  The \"United Arab Emirates Prepaid Card and Dig...\n",
       "98  2023-04-24  Dublin, April 24, 2023 (GLOBE NEWSWIRE) -- The...\n",
       "99  2023-04-25  Dublin, April 25, 2023 (GLOBE NEWSWIRE) -- The...\n",
       "\n",
       "[100 rows x 2 columns]"
      ]
     },
     "execution_count": 38,
     "metadata": {},
     "output_type": "execute_result"
    }
   ],
   "source": [
    "df"
   ]
  },
  {
   "cell_type": "code",
   "execution_count": 60,
   "id": "2068b242",
   "metadata": {},
   "outputs": [
    {
     "data": {
      "text/plain": [
       "array([[ 0.02386486, -0.05822476, -0.05011068, ..., -0.05399233,\n",
       "        -0.04521418,  0.04508938],\n",
       "       [ 0.02867389, -0.06535016, -0.04798256, ..., -0.06922695,\n",
       "        -0.01262792,  0.04870056],\n",
       "       [ 0.01213609, -0.05827456, -0.00744924, ..., -0.15811756,\n",
       "         0.04902723, -0.01129176],\n",
       "       ...,\n",
       "       [ 0.05160215,  0.02002458, -0.05077766, ..., -0.11151181,\n",
       "        -0.06531645,  0.0456032 ],\n",
       "       [ 0.06373225, -0.02334041, -0.03095037, ..., -0.09236967,\n",
       "        -0.06544101,  0.04168716],\n",
       "       [ 0.04237419, -0.00231857, -0.04590084, ..., -0.08688017,\n",
       "        -0.05930405,  0.04009786]], dtype=float32)"
      ]
     },
     "execution_count": 60,
     "metadata": {},
     "output_type": "execute_result"
    }
   ],
   "source": [
    "model.encode(df[\"description\"])"
   ]
  },
  {
   "cell_type": "code",
   "execution_count": null,
   "id": "e37e8811",
   "metadata": {},
   "outputs": [],
   "source": []
  }
 ],
 "metadata": {
  "kernelspec": {
   "display_name": "Python 3 (ipykernel)",
   "language": "python",
   "name": "python3"
  },
  "language_info": {
   "codemirror_mode": {
    "name": "ipython",
    "version": 3
   },
   "file_extension": ".py",
   "mimetype": "text/x-python",
   "name": "python",
   "nbconvert_exporter": "python",
   "pygments_lexer": "ipython3",
   "version": "3.8.16"
  }
 },
 "nbformat": 4,
 "nbformat_minor": 5
}
