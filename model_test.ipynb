{
 "cells": [
  {
   "cell_type": "code",
   "execution_count": 1,
   "id": "1f505cb9",
   "metadata": {},
   "outputs": [],
   "source": [
    "from models.NTM import WeightedAverageSum\n",
    "import torch"
   ]
  },
  {
   "cell_type": "code",
   "execution_count": 7,
   "id": "1e8ddb9d",
   "metadata": {},
   "outputs": [],
   "source": [
    "x = torch.rand((1, 32, 4))"
   ]
  },
  {
   "cell_type": "code",
   "execution_count": 13,
   "id": "41567595",
   "metadata": {},
   "outputs": [
    {
     "data": {
      "text/plain": [
       "1"
      ]
     },
     "execution_count": 13,
     "metadata": {},
     "output_type": "execute_result"
    }
   ],
   "source": [
    "x.size()[0]"
   ]
  },
  {
   "cell_type": "code",
   "execution_count": 8,
   "id": "6672a96b",
   "metadata": {},
   "outputs": [],
   "source": [
    "weighted_average = WeightedAverageSum(4, 16)"
   ]
  },
  {
   "cell_type": "code",
   "execution_count": 9,
   "id": "9b91a8dc",
   "metadata": {},
   "outputs": [
    {
     "data": {
      "text/plain": [
       "torch.Size([1, 16])"
      ]
     },
     "execution_count": 9,
     "metadata": {},
     "output_type": "execute_result"
    }
   ],
   "source": [
    "weighted_average(x).shape"
   ]
  },
  {
   "cell_type": "code",
   "execution_count": null,
   "id": "3643719d",
   "metadata": {},
   "outputs": [],
   "source": []
  }
 ],
 "metadata": {
  "kernelspec": {
   "display_name": "Python 3 (ipykernel)",
   "language": "python",
   "name": "python3"
  },
  "language_info": {
   "codemirror_mode": {
    "name": "ipython",
    "version": 3
   },
   "file_extension": ".py",
   "mimetype": "text/x-python",
   "name": "python",
   "nbconvert_exporter": "python",
   "pygments_lexer": "ipython3",
   "version": "3.8.16"
  }
 },
 "nbformat": 4,
 "nbformat_minor": 5
}
